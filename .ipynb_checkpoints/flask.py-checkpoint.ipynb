{
 "cells": [
  {
   "cell_type": "code",
   "execution_count": null,
   "metadata": {},
   "outputs": [],
   "source": [
    "import numpy as np\n",
    "from flask import Flask, request, jsonify, render_template\n",
    "import pickle\n",
    "from joblib import load\n",
    "app = Flask(__name__)\n",
    "model = load(open('filename', 'rb'))\n",
    "\n",
    "@app.route('/')\n",
    "def home():\n",
    "    return render_template('index.html')\n",
    "\n",
    "@app.route('/y_predict',methods=['POST'])\n",
    "def y_predict():\n",
    "    '''\n",
    "    For rendering results on HTML GUI\n",
    "    '''\n",
    "    x_test = [[int(x) for x in request.form.values()]]\n",
    "    if(x_test[0][0] == 0):\n",
    "        x_test[0][0]=0\n",
    "        x_test[0].insert(1,0)\n",
    "    elif(x_test[0][0] == 1):\n",
    "        x_test[0][0]=1\n",
    "        x_test[0].insert(1,0)\n",
    "    else:\n",
    "        x_test[0][0]=0\n",
    "        x_test[0].insert(1,1)\n",
    "    print(x_test)\n",
    "    prediction = model.predict(x_test)\n",
    "    print(prediction)\n",
    "    output=prediction[0]\n",
    "    \n",
    "    return render_template('index.html', prediction_text='Concrete Strength is {}'.format(output))\n",
    "\n",
    "@app.route('/predict_api',methods=['POST'])\n",
    "def predict_api():\n",
    "    '''\n",
    "    For direct API calls trought request\n",
    "    '''\n",
    "    data = request.get_json(force=True)\n",
    "    prediction = model.y_predict([np.array(list(data.values()))])\n",
    "\n",
    "    output = prediction[0]\n",
    "    return jsonify(output)\n",
    "\n",
    "if __name__ == \"__main__\":\n",
    "    app.run(debug=True)\n"
   ]
  }
 ],
 "metadata": {
  "kernelspec": {
   "display_name": "Python 3",
   "language": "python",
   "name": "python3"
  },
  "language_info": {
   "codemirror_mode": {
    "name": "ipython",
    "version": 3
   },
   "file_extension": ".py",
   "mimetype": "text/x-python",
   "name": "python",
   "nbconvert_exporter": "python",
   "pygments_lexer": "ipython3",
   "version": "3.7.6"
  }
 },
 "nbformat": 4,
 "nbformat_minor": 4
}
